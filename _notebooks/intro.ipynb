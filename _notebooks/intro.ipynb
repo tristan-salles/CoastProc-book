{
 "cells": [
  {
   "cell_type": "markdown",
   "id": "5e999332",
   "metadata": {},
   "source": [
    "![_static/usyd.png](_static/usyd.png)"
   ]
  },
  {
   "cell_type": "markdown",
   "id": "6002f9d7",
   "metadata": {},
   "source": [
    "# Coastal Processes, Environments & Systems\n",
    "\n",
    "**Author**: [Tristan Salles](https://www.sydney.edu.au/science/about/our-people/academic-staff/tristan-salles.html)"
   ]
  },
  {
   "cell_type": "markdown",
   "id": "14fcf63e",
   "metadata": {},
   "source": [
    "# Course content\n",
    "\n",
    "For this component of the unit, we will use:\n",
    "\n",
    "1. a *learning website* where you will find all information relative to the lectures themselves: it contains some **notes**, **videos** and **exercises** for each weeks,  \n",
    "1. a *web-based programming platform* based on **Jupyter notebooks** that contains all the materials for the **exercises** and **practicals**.  \n",
    "\n",
    "\n",
    "This part of the course focuses on coastal systems analysis using both ocean data from a variety of sources\n",
    "(hindcast and forecast data, satellite observations, radar, moored buoys) and numerical models of shoreline changes,\n",
    "wave dynamics and coral reef evolution.\n",
    "\n",
    "The emphasise will be on:\n",
    "\n",
    "- **How to query and analyse numerical and ocean data?**  \n",
    "- **What can we learn from ocean and wave models on coastal evolution?**  \n",
    "- **How to use these models and what are their limitations?**  \n",
    "\n",
    "\n",
    ">**Note**\n",
    ">\n",
    ">Today, numerical modelling and ocean data query techniques are routinely applied by governmental agencies,\n",
    "companies and research organisations to tackle complex coastal problems. It is based on advanced physical models\n",
    "and engineering approaches designed to describe and observe the connections between ocean dynamics and coastal evolution.\n",
    "\n",
    "Over the last 20 years, major improvements in our understanding of coastal\n",
    "processes have been related to (1) easier access to observational dataset and (2) improved\n",
    "coastal numerical models. **It is now critical for any graduates to have a sense of how to access\n",
    "these dataset efficiently, how to process them using simple coding tools and how to interpret them**.\n",
    "\n",
    "During this course, we will learn how to do that using web-enabled open source technologies that you will be able to reuse in the future."
   ]
  },
  {
   "cell_type": "markdown",
   "id": "908284c3",
   "metadata": {},
   "source": [
    "## Lectures content\n",
    "\n",
    "We will do **computer-based exercises during both lectures and practicals** so you will need to bring an\n",
    "electronic device (preferably a laptop but a tablet with internet access could work). As there will be\n",
    "a lot to cover, it is also recommended to go through each chapter prior to the lecture to be well\n",
    "prepared and able to get the most of it during classes.\n",
    "\n",
    "- [Ocean Data Query](oceandata.ipynb)\n",
    "- [Bibliography](zreferences.ipynb)"
   ]
  }
 ],
 "metadata": {
  "date": 1673407586.4560292,
  "filename": "intro.md",
  "kernelspec": {
   "display_name": "Python",
   "language": "python3",
   "name": "python3"
  },
  "title": "Coastal Processes, Environments & Systems"
 },
 "nbformat": 4,
 "nbformat_minor": 5
}