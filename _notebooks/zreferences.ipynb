{
 "cells": [
  {
   "cell_type": "markdown",
   "id": "a8f30d47",
   "metadata": {},
   "source": [
    "# Bibliography"
   ]
  },
  {
   "cell_type": "markdown",
   "id": "40d48d32",
   "metadata": {},
   "source": [
    "## References"
   ]
  }
 ],
 "metadata": {
  "date": 1673398082.4807994,
  "filename": "zreferences.md",
  "kernelspec": {
   "display_name": "Python",
   "language": "python3",
   "name": "python3"
  },
  "title": "Bibliography"
 },
 "nbformat": 4,
 "nbformat_minor": 5
}