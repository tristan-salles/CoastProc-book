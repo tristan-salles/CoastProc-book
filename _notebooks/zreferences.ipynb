{
 "cells": [
  {
   "cell_type": "markdown",
   "id": "59844ef3",
   "metadata": {},
   "source": [
    "# Bibliography"
   ]
  },
  {
   "cell_type": "markdown",
   "id": "34898d1c",
   "metadata": {},
   "source": [
    "## References"
   ]
  }
 ],
 "metadata": {
  "date": 1673414229.49623,
  "filename": "zreferences.md",
  "kernelspec": {
   "display_name": "Python",
   "language": "python3",
   "name": "python3"
  },
  "title": "Bibliography"
 },
 "nbformat": 4,
 "nbformat_minor": 5
}