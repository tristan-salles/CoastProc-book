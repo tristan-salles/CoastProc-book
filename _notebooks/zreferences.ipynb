{
 "cells": [
  {
   "cell_type": "markdown",
   "id": "f65a15bb",
   "metadata": {},
   "source": [
    "# Bibliography"
   ]
  },
  {
   "cell_type": "markdown",
   "id": "890faebc",
   "metadata": {},
   "source": [
    "## References"
   ]
  }
 ],
 "metadata": {
  "date": 1673423902.0623667,
  "filename": "zreferences.md",
  "kernelspec": {
   "display_name": "Python",
   "language": "python3",
   "name": "python3"
  },
  "title": "Bibliography"
 },
 "nbformat": 4,
 "nbformat_minor": 5
}