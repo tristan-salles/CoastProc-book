{
 "cells": [
  {
   "cell_type": "markdown",
   "id": "2634e78e",
   "metadata": {},
   "source": [
    "# Bibliography"
   ]
  },
  {
   "cell_type": "markdown",
   "id": "e7177712",
   "metadata": {},
   "source": [
    "## References"
   ]
  }
 ],
 "metadata": {
  "date": 1673419142.7439024,
  "filename": "zreferences.md",
  "kernelspec": {
   "display_name": "Python",
   "language": "python3",
   "name": "python3"
  },
  "title": "Bibliography"
 },
 "nbformat": 4,
 "nbformat_minor": 5
}