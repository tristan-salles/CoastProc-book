{
 "cells": [
  {
   "cell_type": "markdown",
   "id": "f2f8cdc0",
   "metadata": {},
   "source": [
    "# Bibliography"
   ]
  },
  {
   "cell_type": "markdown",
   "id": "723940c1",
   "metadata": {},
   "source": [
    "## References"
   ]
  }
 ],
 "metadata": {
  "date": 1673431408.4073799,
  "filename": "zreferences.md",
  "kernelspec": {
   "display_name": "Python",
   "language": "python3",
   "name": "python3"
  },
  "title": "Bibliography"
 },
 "nbformat": 4,
 "nbformat_minor": 5
}